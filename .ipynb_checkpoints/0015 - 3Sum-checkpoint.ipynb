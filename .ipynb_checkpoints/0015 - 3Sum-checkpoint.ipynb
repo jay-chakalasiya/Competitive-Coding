{
 "cells": [
  {
   "cell_type": "markdown",
   "metadata": {},
   "source": [
    "Given an array `nums` of n integers, are there elements a, b, c in `nums` such that a + b + c = 0? Find all unique triplets in the array which gives the sum of zero.\n",
    "\n",
    "**Note:**\n",
    "The solution set must not contain duplicate triplets.\n",
    "\n",
    "**Example:**\n",
    "```\n",
    "Given array nums = [-1, 0, 1, 2, -1, -4],\n",
    "\n",
    "A solution set is:\n",
    "[\n",
    "  [-1, 0, 1],\n",
    "  [-1, -1, 2]\n",
    "]\n",
    "```"
   ]
  },
  {
   "cell_type": "code",
   "execution_count": 8,
   "metadata": {
    "ExecuteTime": {
     "end_time": "2020-01-03T09:56:16.758192Z",
     "start_time": "2020-01-03T09:56:16.742221Z"
    }
   },
   "outputs": [],
   "source": [
    "def threesum(nums):\n",
    "    out=[]\n",
    "    nums.sort()\n",
    "    for i in range(len(nums)-2):\n",
    "        if nums[i]>0:\n",
    "            break\n",
    "        if i>0 and nums[i]==nums[i-1]: \n",
    "            continue\n",
    "        \n",
    "        l, r = i+1, len(nums)-1\n",
    "        \n",
    "        while l<r:\n",
    "            total = nums[i]+nums[l]+nums[r]\n",
    "            if total<0:\n",
    "                l+=1\n",
    "            elif total>0:\n",
    "                r-=1\n",
    "            else:\n",
    "                out.append([nums[i],nums[l],nums[r]])\n",
    "                while l<r and nums[l]==nums[l+1]:\n",
    "                    l+=1\n",
    "                while l<r and nums[r]==nums[r-1]:\n",
    "                    r-=1\n",
    "                l+=1\n",
    "                r-=1\n",
    "    return out"
   ]
  },
  {
   "cell_type": "code",
   "execution_count": 9,
   "metadata": {
    "ExecuteTime": {
     "end_time": "2020-01-03T09:56:17.416492Z",
     "start_time": "2020-01-03T09:56:17.410506Z"
    }
   },
   "outputs": [
    {
     "data": {
      "text/plain": [
       "[[-1, -1, 2], [-1, 0, 1]]"
      ]
     },
     "execution_count": 9,
     "metadata": {},
     "output_type": "execute_result"
    }
   ],
   "source": [
    "threesum([-1,0,1,2,-1,-4])"
   ]
  },
  {
   "cell_type": "code",
   "execution_count": null,
   "metadata": {},
   "outputs": [],
   "source": []
  }
 ],
 "metadata": {
  "kernelspec": {
   "display_name": "Python 3",
   "language": "python",
   "name": "python3"
  },
  "language_info": {
   "codemirror_mode": {
    "name": "ipython",
    "version": 3
   },
   "file_extension": ".py",
   "mimetype": "text/x-python",
   "name": "python",
   "nbconvert_exporter": "python",
   "pygments_lexer": "ipython3",
   "version": "3.6.8"
  },
  "toc": {
   "base_numbering": 1,
   "nav_menu": {},
   "number_sections": true,
   "sideBar": true,
   "skip_h1_title": false,
   "title_cell": "Table of Contents",
   "title_sidebar": "Contents",
   "toc_cell": false,
   "toc_position": {},
   "toc_section_display": true,
   "toc_window_display": false
  },
  "varInspector": {
   "cols": {
    "lenName": 16,
    "lenType": 16,
    "lenVar": 40
   },
   "kernels_config": {
    "python": {
     "delete_cmd_postfix": "",
     "delete_cmd_prefix": "del ",
     "library": "var_list.py",
     "varRefreshCmd": "print(var_dic_list())"
    },
    "r": {
     "delete_cmd_postfix": ") ",
     "delete_cmd_prefix": "rm(",
     "library": "var_list.r",
     "varRefreshCmd": "cat(var_dic_list()) "
    }
   },
   "types_to_exclude": [
    "module",
    "function",
    "builtin_function_or_method",
    "instance",
    "_Feature"
   ],
   "window_display": false
  }
 },
 "nbformat": 4,
 "nbformat_minor": 2
}
