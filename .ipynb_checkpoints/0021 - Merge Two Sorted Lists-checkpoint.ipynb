{
 "cells": [
  {
   "cell_type": "markdown",
   "metadata": {},
   "source": [
    "Merge two sorted linked lists and return it as a new list. The new list should be made by splicing together the nodes of the first two lists.\n",
    "\n",
    "**Example:**\n",
    "```\n",
    "Input: 1->2->4, 1->3->4\n",
    "Output: 1->1->2->3->4->4\n",
    "```"
   ]
  },
  {
   "cell_type": "code",
   "execution_count": 36,
   "metadata": {
    "ExecuteTime": {
     "end_time": "2020-01-05T09:38:54.539212Z",
     "start_time": "2020-01-05T09:38:54.534227Z"
    }
   },
   "outputs": [],
   "source": [
    "class ListNode:\n",
    "    def __init__(self, x):\n",
    "        self.val = x\n",
    "        self.next = None\n",
    "    def print(self):\n",
    "        temp = self.next\n",
    "        string = str(self.val)\n",
    "        while temp!=None:\n",
    "            string += ' -> '+ str(temp.val)\n",
    "            temp=temp.next\n",
    "        print(string)"
   ]
  },
  {
   "cell_type": "code",
   "execution_count": 37,
   "metadata": {
    "ExecuteTime": {
     "end_time": "2020-01-05T09:38:54.921786Z",
     "start_time": "2020-01-05T09:38:54.913761Z"
    }
   },
   "outputs": [
    {
     "name": "stdout",
     "output_type": "stream",
     "text": [
      "1 -> 2 -> 3\n",
      "1 -> 3 -> 4\n"
     ]
    }
   ],
   "source": [
    "A = ListNode(1)\n",
    "A.next = ListNode(2)\n",
    "A.next.next = ListNode(3)\n",
    "A.print()\n",
    "B = ListNode(1)\n",
    "B.next = ListNode(3)\n",
    "B.next.next = ListNode(4)\n",
    "B.print()"
   ]
  },
  {
   "cell_type": "code",
   "execution_count": 38,
   "metadata": {
    "ExecuteTime": {
     "end_time": "2020-01-05T09:38:55.279888Z",
     "start_time": "2020-01-05T09:38:55.273871Z"
    }
   },
   "outputs": [],
   "source": [
    "def mergeTwoLists(l1, l2):\n",
    "\n",
    "    O = ListNode('#')\n",
    "    K = O\n",
    "    while(l1!=None or l2!=None ):\n",
    "        if l1==None:\n",
    "            K.next = l2\n",
    "            l2=None\n",
    "        elif l2==None:\n",
    "            K.next = l1\n",
    "            l1=None\n",
    "        else:\n",
    "            if l1.val<l2.val:\n",
    "                K.next = l1\n",
    "                K = K.next\n",
    "                l1 = l1.next\n",
    "            elif l1.val>=l2.val:\n",
    "                K.next = l2\n",
    "                K = K.next\n",
    "                l2 = l2.next\n",
    "    return O.next\n",
    "                "
   ]
  },
  {
   "cell_type": "code",
   "execution_count": 39,
   "metadata": {
    "ExecuteTime": {
     "end_time": "2020-01-05T09:38:56.384316Z",
     "start_time": "2020-01-05T09:38:56.379330Z"
    }
   },
   "outputs": [
    {
     "name": "stdout",
     "output_type": "stream",
     "text": [
      "1 -> 1 -> 2 -> 3 -> 3 -> 4\n"
     ]
    }
   ],
   "source": [
    "mergeTwoLists(A, B).print()"
   ]
  },
  {
   "cell_type": "code",
   "execution_count": null,
   "metadata": {},
   "outputs": [],
   "source": []
  }
 ],
 "metadata": {
  "kernelspec": {
   "display_name": "Python 3",
   "language": "python",
   "name": "python3"
  },
  "language_info": {
   "codemirror_mode": {
    "name": "ipython",
    "version": 3
   },
   "file_extension": ".py",
   "mimetype": "text/x-python",
   "name": "python",
   "nbconvert_exporter": "python",
   "pygments_lexer": "ipython3",
   "version": "3.6.8"
  },
  "toc": {
   "base_numbering": 1,
   "nav_menu": {},
   "number_sections": true,
   "sideBar": true,
   "skip_h1_title": false,
   "title_cell": "Table of Contents",
   "title_sidebar": "Contents",
   "toc_cell": false,
   "toc_position": {},
   "toc_section_display": true,
   "toc_window_display": false
  },
  "varInspector": {
   "cols": {
    "lenName": 16,
    "lenType": 16,
    "lenVar": 40
   },
   "kernels_config": {
    "python": {
     "delete_cmd_postfix": "",
     "delete_cmd_prefix": "del ",
     "library": "var_list.py",
     "varRefreshCmd": "print(var_dic_list())"
    },
    "r": {
     "delete_cmd_postfix": ") ",
     "delete_cmd_prefix": "rm(",
     "library": "var_list.r",
     "varRefreshCmd": "cat(var_dic_list()) "
    }
   },
   "types_to_exclude": [
    "module",
    "function",
    "builtin_function_or_method",
    "instance",
    "_Feature"
   ],
   "window_display": false
  }
 },
 "nbformat": 4,
 "nbformat_minor": 2
}
