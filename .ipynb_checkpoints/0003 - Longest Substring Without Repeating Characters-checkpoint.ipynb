{
 "cells": [
  {
   "cell_type": "markdown",
   "metadata": {},
   "source": [
    "Given a string, find the length of the **longest substring** without repeating characters.\n",
    "\n",
    "**Example 1:**\n",
    "```\n",
    "Input: \"abcabcbb\"\n",
    "Output: 3 \n",
    "Explanation: The answer is \"abc\", with the length of 3. \n",
    "```\n",
    "\n",
    "**Example 2:**\n",
    "```\n",
    "Input: \"bbbbb\"\n",
    "Output: 1\n",
    "Explanation: The answer is \"b\", with the length of 1.\n",
    "```\n",
    "\n",
    "**Example 3:**\n",
    "```\n",
    "Input: \"pwwkew\"\n",
    "Output: 3\n",
    "Explanation: The answer is \"wke\", with the length of 3. \n",
    "             Note that the answer must be a substring, \"pwke\" is a subsequence and not a substring.\n",
    "```"
   ]
  },
  {
   "cell_type": "code",
   "execution_count": 5,
   "metadata": {
    "ExecuteTime": {
     "end_time": "2020-01-02T09:17:35.943845Z",
     "start_time": "2020-01-02T09:17:35.934899Z"
    }
   },
   "outputs": [],
   "source": [
    "def lengthOfLongestSubstring(s):\n",
    "\n",
    "    if len(s)==0:\n",
    "        return 0\n",
    "\n",
    "    lengths = [0]*len(s)\n",
    "    last = 0\n",
    "\n",
    "    for i in range(len(s)):\n",
    "        if s[i] not in s[last:i]:\n",
    "            lengths[i] = lengths[i-1]+1\n",
    "        else:\n",
    "            last = last+s[last:i].index(s[i])+1\n",
    "            lengths[i]=i-last+1\n",
    "\n",
    "    return max(lengths)\n",
    "            "
   ]
  },
  {
   "cell_type": "code",
   "execution_count": 6,
   "metadata": {
    "ExecuteTime": {
     "end_time": "2020-01-02T09:17:36.756691Z",
     "start_time": "2020-01-02T09:17:36.749693Z"
    }
   },
   "outputs": [
    {
     "data": {
      "text/plain": [
       "(3, 1, 3)"
      ]
     },
     "execution_count": 6,
     "metadata": {},
     "output_type": "execute_result"
    }
   ],
   "source": [
    "lengthOfLongestSubstring(\"abcabcbb\"), lengthOfLongestSubstring(\"bbbbb\"), lengthOfLongestSubstring(\"pwwkew\")"
   ]
  },
  {
   "cell_type": "code",
   "execution_count": null,
   "metadata": {},
   "outputs": [],
   "source": []
  }
 ],
 "metadata": {
  "kernelspec": {
   "display_name": "Python 3",
   "language": "python",
   "name": "python3"
  },
  "language_info": {
   "codemirror_mode": {
    "name": "ipython",
    "version": 3
   },
   "file_extension": ".py",
   "mimetype": "text/x-python",
   "name": "python",
   "nbconvert_exporter": "python",
   "pygments_lexer": "ipython3",
   "version": "3.6.8"
  },
  "toc": {
   "base_numbering": 1,
   "nav_menu": {},
   "number_sections": true,
   "sideBar": true,
   "skip_h1_title": false,
   "title_cell": "Table of Contents",
   "title_sidebar": "Contents",
   "toc_cell": false,
   "toc_position": {},
   "toc_section_display": true,
   "toc_window_display": false
  },
  "varInspector": {
   "cols": {
    "lenName": 16,
    "lenType": 16,
    "lenVar": 40
   },
   "kernels_config": {
    "python": {
     "delete_cmd_postfix": "",
     "delete_cmd_prefix": "del ",
     "library": "var_list.py",
     "varRefreshCmd": "print(var_dic_list())"
    },
    "r": {
     "delete_cmd_postfix": ") ",
     "delete_cmd_prefix": "rm(",
     "library": "var_list.r",
     "varRefreshCmd": "cat(var_dic_list()) "
    }
   },
   "types_to_exclude": [
    "module",
    "function",
    "builtin_function_or_method",
    "instance",
    "_Feature"
   ],
   "window_display": false
  }
 },
 "nbformat": 4,
 "nbformat_minor": 2
}
