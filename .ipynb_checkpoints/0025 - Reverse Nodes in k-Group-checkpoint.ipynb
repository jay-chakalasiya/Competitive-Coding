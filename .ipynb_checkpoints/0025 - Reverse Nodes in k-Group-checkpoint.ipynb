{
 "cells": [
  {
   "cell_type": "markdown",
   "metadata": {},
   "source": [
    "Given a linked list, reverse the nodes of a linked list k at a time and return its modified list.\n",
    "\n",
    "k is a positive integer and is less than or equal to the length of the linked list. If the number of nodes is not a multiple of k then left-out nodes in the end should remain as it is.\n",
    "\n",
    "**Example:**\n",
    "Given this linked list: `1->2->3->4->5`\n",
    "\n",
    "For k = 2, you should return: `2->1->4->3->5`\n",
    "\n",
    "For k = 3, you should return: `3->2->1->4->5`\n",
    "\n",
    "**Note:**\n",
    "- Only constant extra memory is allowed.\n",
    "- You may not alter the values in the list's nodes, only nodes itself may be changed."
   ]
  },
  {
   "cell_type": "code",
   "execution_count": 33,
   "metadata": {
    "ExecuteTime": {
     "end_time": "2020-01-12T00:26:02.161785Z",
     "start_time": "2020-01-12T00:26:02.146824Z"
    }
   },
   "outputs": [],
   "source": [
    "class ListNode:\n",
    "    def __init__(self, x):\n",
    "        self.val = x\n",
    "        self.next = None\n",
    "    def print(self):\n",
    "        temp = self.next\n",
    "        string = str(self.val)\n",
    "        while temp!=None:\n",
    "            string += ' -> '+ str(temp.val)\n",
    "            temp=temp.next\n",
    "        print(string)\n",
    "\n",
    "def make_link_list(ls):\n",
    "    h = ListNode(ls[0])\n",
    "    o=h\n",
    "    for i in range(1,len(ls),1):\n",
    "        o.next = ListNode(ls[i])\n",
    "        o = o.next\n",
    "    return h\n"
   ]
  },
  {
   "cell_type": "code",
   "execution_count": 61,
   "metadata": {
    "ExecuteTime": {
     "end_time": "2020-01-12T02:49:21.944535Z",
     "start_time": "2020-01-12T02:49:21.935561Z"
    }
   },
   "outputs": [],
   "source": [
    "def reverseKGroup(head, k):\n",
    "    if not head or k < 2:\n",
    "        return head\n",
    "    \n",
    "    next_head = head\n",
    "    for i in range(k-1):\n",
    "        next_head = next_head.next\n",
    "        if not next_head:\n",
    "            return head\n",
    "    ret = next_head\n",
    "    ret.print()\n",
    "    head.print()\n",
    "    next_head.print()\n",
    "    print('-')\n",
    "    \n",
    "    current = head\n",
    "    while next_head:\n",
    "        tail = current\n",
    "        prev = None\n",
    "        for i in range(k):\n",
    "            if next_head:\n",
    "                next_head = next_head.next\n",
    "            _next = current.next\n",
    "            current.next = prev\n",
    "            prev = current\n",
    "            current = _next\n",
    "        tail.next = next_head or current\n",
    "    return ret"
   ]
  },
  {
   "cell_type": "code",
   "execution_count": 62,
   "metadata": {
    "ExecuteTime": {
     "end_time": "2020-01-12T02:49:22.516563Z",
     "start_time": "2020-01-12T02:49:22.510580Z"
    }
   },
   "outputs": [
    {
     "name": "stdout",
     "output_type": "stream",
     "text": [
      "1 -> 2 -> 3 -> 4 -> 5 -> 6 -> 7 -> 8 -> 9\n",
      "3 -> 4 -> 5 -> 6 -> 7 -> 8 -> 9\n",
      "1 -> 2 -> 3 -> 4 -> 5 -> 6 -> 7 -> 8 -> 9\n",
      "3 -> 4 -> 5 -> 6 -> 7 -> 8 -> 9\n",
      "-\n",
      "3 -> 2 -> 1 -> 6 -> 5 -> 4 -> 9 -> 8 -> 7\n"
     ]
    }
   ],
   "source": [
    "H = make_link_list([1,2,3,4,5,6,7,8,9])\n",
    "H.print()\n",
    "reverseKGroup(H, 3).print()"
   ]
  },
  {
   "cell_type": "code",
   "execution_count": null,
   "metadata": {},
   "outputs": [],
   "source": []
  }
 ],
 "metadata": {
  "kernelspec": {
   "display_name": "Python 3",
   "language": "python",
   "name": "python3"
  },
  "language_info": {
   "codemirror_mode": {
    "name": "ipython",
    "version": 3
   },
   "file_extension": ".py",
   "mimetype": "text/x-python",
   "name": "python",
   "nbconvert_exporter": "python",
   "pygments_lexer": "ipython3",
   "version": "3.6.8"
  },
  "toc": {
   "base_numbering": 1,
   "nav_menu": {},
   "number_sections": true,
   "sideBar": true,
   "skip_h1_title": false,
   "title_cell": "Table of Contents",
   "title_sidebar": "Contents",
   "toc_cell": false,
   "toc_position": {},
   "toc_section_display": true,
   "toc_window_display": false
  },
  "varInspector": {
   "cols": {
    "lenName": 16,
    "lenType": 16,
    "lenVar": 40
   },
   "kernels_config": {
    "python": {
     "delete_cmd_postfix": "",
     "delete_cmd_prefix": "del ",
     "library": "var_list.py",
     "varRefreshCmd": "print(var_dic_list())"
    },
    "r": {
     "delete_cmd_postfix": ") ",
     "delete_cmd_prefix": "rm(",
     "library": "var_list.r",
     "varRefreshCmd": "cat(var_dic_list()) "
    }
   },
   "types_to_exclude": [
    "module",
    "function",
    "builtin_function_or_method",
    "instance",
    "_Feature"
   ],
   "window_display": false
  }
 },
 "nbformat": 4,
 "nbformat_minor": 2
}
