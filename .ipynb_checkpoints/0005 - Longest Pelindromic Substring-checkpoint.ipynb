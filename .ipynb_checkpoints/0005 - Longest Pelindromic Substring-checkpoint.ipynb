{
 "cells": [
  {
   "cell_type": "markdown",
   "metadata": {
    "ExecuteTime": {
     "end_time": "2020-01-02T09:32:37.575170Z",
     "start_time": "2020-01-02T09:32:37.570182Z"
    }
   },
   "source": [
    "Given a string s , find the longest palindromic substring in s. You may assume that the maximum length of s is 1000.\n",
    "\n",
    "**Example 1:**\n",
    "```\n",
    "Input: \"babad\"\n",
    "Output: \"bab\"\n",
    "Note: \"aba\" is also a valid answer.\n",
    "```\n",
    "\n",
    "**Example 2:**\n",
    "```\n",
    "Input: \"cbbd\"\n",
    "Output: \"bb\"\n",
    "```"
   ]
  },
  {
   "cell_type": "code",
   "execution_count": 4,
   "metadata": {
    "ExecuteTime": {
     "end_time": "2020-01-02T09:35:25.650538Z",
     "start_time": "2020-01-02T09:35:25.643522Z"
    }
   },
   "outputs": [],
   "source": [
    "def expandAroundCenter(s, left, right):\n",
    "    L, R = left, right\n",
    "    while L>=0 and R<len(s) and s[L]==s[R]:\n",
    "        L-=1\n",
    "        R+=1\n",
    "    return R-L-1\n",
    "def longestPalindrome(s):\n",
    "    lpsStartIndex=0\n",
    "    lpsEndIndex=0\n",
    "    for i in range(len(s)):\n",
    "        len1 = expandAroundCenter(s, i, i)\n",
    "        len2 = expandAroundCenter(s, i, i+1)\n",
    "        maxLen = max(len1, len2)\n",
    "        if maxLen > lpsEndIndex-lpsStartIndex+1:\n",
    "            lpsStartIndex = i - (maxLen-1)//2\n",
    "            lpsEndIndex = i + (maxLen//2)\n",
    "    return s[lpsStartIndex:lpsEndIndex+1]"
   ]
  },
  {
   "cell_type": "code",
   "execution_count": 6,
   "metadata": {
    "ExecuteTime": {
     "end_time": "2020-01-02T09:35:39.660900Z",
     "start_time": "2020-01-02T09:35:39.652916Z"
    }
   },
   "outputs": [
    {
     "data": {
      "text/plain": [
       "('bab', 'bb')"
      ]
     },
     "execution_count": 6,
     "metadata": {},
     "output_type": "execute_result"
    }
   ],
   "source": [
    "longestPalindrome(\"babad\"), longestPalindrome(\"cbbd\")"
   ]
  },
  {
   "cell_type": "code",
   "execution_count": null,
   "metadata": {},
   "outputs": [],
   "source": []
  }
 ],
 "metadata": {
  "kernelspec": {
   "display_name": "Python 3",
   "language": "python",
   "name": "python3"
  },
  "language_info": {
   "codemirror_mode": {
    "name": "ipython",
    "version": 3
   },
   "file_extension": ".py",
   "mimetype": "text/x-python",
   "name": "python",
   "nbconvert_exporter": "python",
   "pygments_lexer": "ipython3",
   "version": "3.6.8"
  },
  "toc": {
   "base_numbering": 1,
   "nav_menu": {},
   "number_sections": true,
   "sideBar": true,
   "skip_h1_title": false,
   "title_cell": "Table of Contents",
   "title_sidebar": "Contents",
   "toc_cell": false,
   "toc_position": {},
   "toc_section_display": true,
   "toc_window_display": false
  },
  "varInspector": {
   "cols": {
    "lenName": 16,
    "lenType": 16,
    "lenVar": 40
   },
   "kernels_config": {
    "python": {
     "delete_cmd_postfix": "",
     "delete_cmd_prefix": "del ",
     "library": "var_list.py",
     "varRefreshCmd": "print(var_dic_list())"
    },
    "r": {
     "delete_cmd_postfix": ") ",
     "delete_cmd_prefix": "rm(",
     "library": "var_list.r",
     "varRefreshCmd": "cat(var_dic_list()) "
    }
   },
   "types_to_exclude": [
    "module",
    "function",
    "builtin_function_or_method",
    "instance",
    "_Feature"
   ],
   "window_display": false
  }
 },
 "nbformat": 4,
 "nbformat_minor": 2
}
