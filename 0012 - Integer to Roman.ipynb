{
 "cells": [
  {
   "cell_type": "markdown",
   "metadata": {},
   "source": [
    "Roman numerals are represented by seven different symbols: `I`, `V`, `X`, `L`, `C`, `D` and `M`.\n",
    "\n",
    "```\n",
    "Symbol       Value\n",
    "I             1\n",
    "V             5\n",
    "X             10\n",
    "L             50\n",
    "C             100\n",
    "D             500\n",
    "M             1000\n",
    "```\n",
    "\n",
    "For example, two is written as `II` in Roman numeral, just two one's added together. Twelve is written as, `XII`, which is simply `X + II`. The number twenty seven is written as `XXVII`, which is `XX + V + II`.\n",
    "\n",
    "Roman numerals are usually written largest to smallest from left to right. However, the numeral for four is not `IIII`. Instead, the number four is written as `IV`. Because the one is before the five we subtract it making four. The same principle applies to the number nine, which is written as `IX`. There are six instances where subtraction is used:\n",
    "\n",
    "`I` can be placed before `V` (5) and `X` (10) to make 4 and 9. \n",
    "`X` can be placed before `L` (50) and `C` (100) to make 40 and 90. \n",
    "`C` can be placed before `D` (500) and `M` (1000) to make 400 and 900.\n",
    "Given an integer, convert it to a roman numeral. Input is guaranteed to be within the range from 1 to 3999.\n",
    "\n",
    "**Example 1:**\n",
    "```\n",
    "Input: 3\n",
    "Output: \"III\"\n",
    "```\n",
    "\n",
    "**Example 2:**\n",
    "```\n",
    "Input: 4\n",
    "Output: \"IV\"\n",
    "```\n",
    "\n",
    "**Example 3:**\n",
    "```\n",
    "Input: 9\n",
    "Output: \"IX\"\n",
    "```\n",
    "\n",
    "**Example 4:**\n",
    "```\n",
    "Input: 58\n",
    "Output: \"LVIII\"\n",
    "Explanation: L = 50, V = 5, III = 3.\n",
    "```\n",
    "\n",
    "**Example 5:**\n",
    "```\n",
    "Input: 1994\n",
    "Output: \"MCMXCIV\"\n",
    "Explanation: M = 1000, CM = 900, XC = 90 and IV = 4.\n",
    "```"
   ]
  },
  {
   "cell_type": "code",
   "execution_count": 1,
   "metadata": {
    "ExecuteTime": {
     "end_time": "2020-01-02T10:07:26.843745Z",
     "start_time": "2020-01-02T10:07:26.831775Z"
    }
   },
   "outputs": [],
   "source": [
    "def intToRoman(num) -> str:\n",
    "    def digit_to_char(pos, num):\n",
    "        if pos==0:\n",
    "            one='I'\n",
    "            five='V'\n",
    "        elif pos==1:\n",
    "            one='X'\n",
    "            five='L'\n",
    "        elif pos==2:\n",
    "            one='C'\n",
    "            five='D'\n",
    "        elif pos==3:\n",
    "            one='M'\n",
    "            five='-'\n",
    "\n",
    "        if num==0:\n",
    "            return ''\n",
    "        elif num==1:\n",
    "            return one\n",
    "        elif num==2:\n",
    "            return one*2\n",
    "        elif num==3:\n",
    "            return one*3\n",
    "        elif num==4:\n",
    "            return one+five\n",
    "        elif num==5:\n",
    "            return five\n",
    "        elif num==6:\n",
    "            return five+one\n",
    "        elif num==7:\n",
    "            return five+one*2\n",
    "        elif num==8:\n",
    "            return five+one*3\n",
    "        elif num==9:\n",
    "            return one+digit_to_char(pos+1, 1)\n",
    "\n",
    "\n",
    "    pos=0\n",
    "    s=''\n",
    "    while num>0:\n",
    "        t = num%10\n",
    "        num=num//10\n",
    "        s = digit_to_char(pos, t)+s\n",
    "        pos+=1\n",
    "\n",
    "    return s"
   ]
  },
  {
   "cell_type": "code",
   "execution_count": 2,
   "metadata": {
    "ExecuteTime": {
     "end_time": "2020-01-02T10:08:05.933358Z",
     "start_time": "2020-01-02T10:08:05.920363Z"
    }
   },
   "outputs": [
    {
     "data": {
      "text/plain": [
       "('III', 'IV', 'IX', 'LVIII', 'MCMXCIV')"
      ]
     },
     "execution_count": 2,
     "metadata": {},
     "output_type": "execute_result"
    }
   ],
   "source": [
    "intToRoman(3), intToRoman(4), intToRoman(9), intToRoman(58), intToRoman(1994)"
   ]
  },
  {
   "cell_type": "code",
   "execution_count": null,
   "metadata": {},
   "outputs": [],
   "source": [
    "\n"
   ]
  }
 ],
 "metadata": {
  "kernelspec": {
   "display_name": "Python 3",
   "language": "python",
   "name": "python3"
  },
  "language_info": {
   "codemirror_mode": {
    "name": "ipython",
    "version": 3
   },
   "file_extension": ".py",
   "mimetype": "text/x-python",
   "name": "python",
   "nbconvert_exporter": "python",
   "pygments_lexer": "ipython3",
   "version": "3.6.8"
  },
  "toc": {
   "base_numbering": 1,
   "nav_menu": {},
   "number_sections": true,
   "sideBar": true,
   "skip_h1_title": false,
   "title_cell": "Table of Contents",
   "title_sidebar": "Contents",
   "toc_cell": false,
   "toc_position": {},
   "toc_section_display": true,
   "toc_window_display": false
  },
  "varInspector": {
   "cols": {
    "lenName": 16,
    "lenType": 16,
    "lenVar": 40
   },
   "kernels_config": {
    "python": {
     "delete_cmd_postfix": "",
     "delete_cmd_prefix": "del ",
     "library": "var_list.py",
     "varRefreshCmd": "print(var_dic_list())"
    },
    "r": {
     "delete_cmd_postfix": ") ",
     "delete_cmd_prefix": "rm(",
     "library": "var_list.r",
     "varRefreshCmd": "cat(var_dic_list()) "
    }
   },
   "types_to_exclude": [
    "module",
    "function",
    "builtin_function_or_method",
    "instance",
    "_Feature"
   ],
   "window_display": false
  }
 },
 "nbformat": 4,
 "nbformat_minor": 2
}
