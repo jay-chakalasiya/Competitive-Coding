{
 "cells": [
  {
   "cell_type": "markdown",
   "metadata": {},
   "source": [
    "Given a linked list, swap every two adjacent nodes and return its head.\n",
    "\n",
    "You may **not** modify the values in the list's nodes, only nodes itself may be changed.\n",
    "\n",
    "**Example:**\n",
    "```\n",
    "Given 1->2->3->4, you should return the list as 2->1->4->3.\n",
    "```"
   ]
  },
  {
   "cell_type": "code",
   "execution_count": 3,
   "metadata": {},
   "outputs": [],
   "source": [
    "class ListNode:\n",
    "    def __init__(self, x):\n",
    "        self.val = x\n",
    "        self.next = None\n",
    "    def print(self):\n",
    "        temp = self.next\n",
    "        string = str(self.val)\n",
    "        while temp!=None:\n",
    "            string += ' -> '+ str(temp.val)\n",
    "            temp=temp.next\n",
    "        print(string)\n"
   ]
  },
  {
   "cell_type": "code",
   "execution_count": 30,
   "metadata": {},
   "outputs": [],
   "source": [
    "def swapPairs(head):\n",
    "    K = ListNode('#')\n",
    "    K.next = head\n",
    "    Current = K\n",
    "    \n",
    "    h = Current\n",
    "    i = Current.next\n",
    "    try:\n",
    "        j = i.next\n",
    "    except:\n",
    "        j=None\n",
    "    \n",
    "    while i and j:   \n",
    "        h.next = j\n",
    "        i.next = j.next\n",
    "        j.next = i\n",
    "        \n",
    "        h = i\n",
    "        i = h.next\n",
    "        try:\n",
    "            j = i.next\n",
    "        except:\n",
    "            j=None\n",
    "    \n",
    "    return K.next\n",
    "    "
   ]
  },
  {
   "cell_type": "code",
   "execution_count": 35,
   "metadata": {},
   "outputs": [],
   "source": [
    "A = ListNode(1)\n",
    "A.next = ListNode(2)\n",
    "A.next.next = ListNode(3)\n",
    "A.next.next.next = ListNode(4)\n",
    "A.next.next.next.next = ListNode(5)\n",
    "A.next.next.next.next.next = ListNode(6)\n",
    "A.next.next.next.next.next.next = ListNode(7)"
   ]
  },
  {
   "cell_type": "code",
   "execution_count": 36,
   "metadata": {},
   "outputs": [
    {
     "name": "stdout",
     "output_type": "stream",
     "text": [
      "2 -> 1 -> 4 -> 3 -> 6 -> 5 -> 7\n"
     ]
    }
   ],
   "source": [
    "swapPairs(A).print()"
   ]
  },
  {
   "cell_type": "code",
   "execution_count": 13,
   "metadata": {},
   "outputs": [
    {
     "name": "stdout",
     "output_type": "stream",
     "text": [
      "2\n"
     ]
    }
   ],
   "source": [
    "if 2 and 1:\n",
    "    print(2)"
   ]
  },
  {
   "cell_type": "code",
   "execution_count": null,
   "metadata": {},
   "outputs": [],
   "source": []
  }
 ],
 "metadata": {
  "kernelspec": {
   "display_name": "Python 3",
   "language": "python",
   "name": "python3"
  },
  "language_info": {
   "codemirror_mode": {
    "name": "ipython",
    "version": 3
   },
   "file_extension": ".py",
   "mimetype": "text/x-python",
   "name": "python",
   "nbconvert_exporter": "python",
   "pygments_lexer": "ipython3",
   "version": "3.6.8"
  }
 },
 "nbformat": 4,
 "nbformat_minor": 2
}
