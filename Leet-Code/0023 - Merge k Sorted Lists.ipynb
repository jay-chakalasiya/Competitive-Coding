{
 "cells": [
  {
   "cell_type": "markdown",
   "metadata": {},
   "source": [
    "Merge k sorted linked lists and return it as one sorted list. Analyze and describe its complexity.\n",
    "**Example:**\n",
    "```\n",
    "Input:\n",
    "[\n",
    "  1->4->5,\n",
    "  1->3->4,\n",
    "  2->6\n",
    "]\n",
    "Output: 1->1->2->3->4->4->5->6\n",
    "```"
   ]
  },
  {
   "cell_type": "code",
   "execution_count": 1,
   "metadata": {
    "ExecuteTime": {
     "end_time": "2020-01-08T18:41:11.424612Z",
     "start_time": "2020-01-08T18:41:11.415636Z"
    }
   },
   "outputs": [],
   "source": [
    "class ListNode:\n",
    "    def __init__(self, x):\n",
    "        self.val = x\n",
    "        self.next = None\n",
    "    def print(self):\n",
    "        temp = self.next\n",
    "        string = str(self.val)\n",
    "        while temp!=None:\n",
    "            string += ' -> '+ str(temp.val)\n",
    "            temp=temp.next\n",
    "        print(string)"
   ]
  },
  {
   "cell_type": "code",
   "execution_count": 2,
   "metadata": {
    "ExecuteTime": {
     "end_time": "2020-01-08T18:41:13.061428Z",
     "start_time": "2020-01-08T18:41:13.048328Z"
    }
   },
   "outputs": [
    {
     "name": "stdout",
     "output_type": "stream",
     "text": [
      "1 -> 4 -> 5\n",
      "1 -> 3 -> 4\n",
      "2 -> 6\n"
     ]
    }
   ],
   "source": [
    "A = ListNode(1)\n",
    "A.next = ListNode(4)\n",
    "A.next.next = ListNode(5)\n",
    "A.print()\n",
    "\n",
    "B = ListNode(1)\n",
    "B.next = ListNode(3)\n",
    "B.next.next = ListNode(4)\n",
    "B.print()\n",
    "\n",
    "C = ListNode(2)\n",
    "C.next = ListNode(6)\n",
    "C.print()"
   ]
  },
  {
   "cell_type": "code",
   "execution_count": 38,
   "metadata": {
    "ExecuteTime": {
     "end_time": "2020-01-07T20:06:57.989619Z",
     "start_time": "2020-01-07T20:06:57.971696Z"
    },
    "run_control": {
     "marked": false
    }
   },
   "outputs": [],
   "source": [
    "def mergeKLists(lists):\n",
    "    Out = ListNode('#')\n",
    "    O = Out\n",
    "    Trigs = [1]*len(lists)\n",
    "    for i in range(len(Trigs)):\n",
    "        if lists[i]==None:\n",
    "            Trigs[i]=0\n",
    "    while max(Trigs)==1:\n",
    "        cur_index=-1\n",
    "        cur_min=float('inf')\n",
    "        for i in range(len(Trigs)):\n",
    "            if Trigs[i]==1 and lists[i].val<cur_min:\n",
    "                cur_min=lists[i].val\n",
    "                cur_index=i\n",
    "        O.next = lists[cur_index]\n",
    "        O = O.next\n",
    "        lists[cur_index] = lists[cur_index].next\n",
    "        \n",
    "        if lists[cur_index]==None:\n",
    "            Trigs[cur_index]=0\n",
    "    return Out.next\n",
    "                \n",
    "                \n",
    "        \n",
    "        "
   ]
  },
  {
   "cell_type": "code",
   "execution_count": 39,
   "metadata": {
    "ExecuteTime": {
     "end_time": "2020-01-07T20:06:58.549565Z",
     "start_time": "2020-01-07T20:06:58.539143Z"
    }
   },
   "outputs": [],
   "source": [
    "K = mergeKLists([A,B,C])"
   ]
  },
  {
   "cell_type": "code",
   "execution_count": 40,
   "metadata": {
    "ExecuteTime": {
     "end_time": "2020-01-07T20:06:59.389123Z",
     "start_time": "2020-01-07T20:06:59.380281Z"
    }
   },
   "outputs": [
    {
     "name": "stdout",
     "output_type": "stream",
     "text": [
      "1 -> 1 -> 2 -> 3 -> 4 -> 4 -> 5 -> 6\n"
     ]
    }
   ],
   "source": [
    "K.print()"
   ]
  },
  {
   "cell_type": "markdown",
   "metadata": {},
   "source": [
    "**Method 2:**\n",
    "By Merging 2 lists iteratively\n",
    "\n",
    "say there are `k` lists and total nodes are `N`, per list = `N/k`\n",
    "\n",
    "for merging any two lists the time will be `O(N*2/k) ~ O(N/k)`\n",
    "\n",
    "we need to merge total `k/2 + k/4 + k/8 + ..... + 1 = k * logk`\n",
    "\n",
    "so total time complexity would be `O((N/k) * (k*logk)) = O(N*logk)`\n",
    "\n",
    "No extra space is required - `O(1)`"
   ]
  },
  {
   "cell_type": "code",
   "execution_count": 8,
   "metadata": {
    "ExecuteTime": {
     "end_time": "2020-01-08T18:54:23.024130Z",
     "start_time": "2020-01-08T18:54:23.009033Z"
    }
   },
   "outputs": [],
   "source": [
    "def mergeKLists(lists):\n",
    "    \n",
    "    def mergeTwoLists(l1, l2):\n",
    "        K = O = ListNode('#')\n",
    "        while(l1 or l2):\n",
    "            if not l1:\n",
    "                K.next = l2\n",
    "                l2=None\n",
    "            elif not l2:\n",
    "                K.next = l1\n",
    "                l1=None\n",
    "            else:\n",
    "                if l1.val<l2.val:\n",
    "                    K.next = l1 \n",
    "                    l1 = l1.next\n",
    "                elif l1.val>=l2.val:\n",
    "                    K.next = l2\n",
    "                    l2 = l2.next\n",
    "                K = K.next\n",
    "        return O.next\n",
    "    \n",
    "    num_lists = len(lists)\n",
    "    distance=1\n",
    "    \n",
    "    while distance<num_lists:\n",
    "        for i in range(0, num_lists-distance, distance*2):\n",
    "            lists[i] = mergeTwoLists(lists[i], lists[i+distance])\n",
    "        distance*=2\n",
    "    \n",
    "    return lists[0] if num_lists>0 else None\n",
    "    "
   ]
  },
  {
   "cell_type": "code",
   "execution_count": 9,
   "metadata": {
    "ExecuteTime": {
     "end_time": "2020-01-08T18:54:35.781954Z",
     "start_time": "2020-01-08T18:54:35.774680Z"
    }
   },
   "outputs": [],
   "source": [
    "K = mergeKLists([A,B,C])"
   ]
  },
  {
   "cell_type": "code",
   "execution_count": 10,
   "metadata": {
    "ExecuteTime": {
     "end_time": "2020-01-08T18:54:42.596769Z",
     "start_time": "2020-01-08T18:54:42.588661Z"
    }
   },
   "outputs": [
    {
     "name": "stdout",
     "output_type": "stream",
     "text": [
      "1 -> 1 -> 2 -> 3 -> 4 -> 4 -> 5 -> 6\n"
     ]
    }
   ],
   "source": [
    "K.print()"
   ]
  },
  {
   "cell_type": "code",
   "execution_count": null,
   "metadata": {},
   "outputs": [],
   "source": []
  }
 ],
 "metadata": {
  "kernelspec": {
   "display_name": "Python 3",
   "language": "python",
   "name": "python3"
  },
  "language_info": {
   "codemirror_mode": {
    "name": "ipython",
    "version": 3
   },
   "file_extension": ".py",
   "mimetype": "text/x-python",
   "name": "python",
   "nbconvert_exporter": "python",
   "pygments_lexer": "ipython3",
   "version": "3.6.8"
  },
  "toc": {
   "base_numbering": 1,
   "nav_menu": {},
   "number_sections": true,
   "sideBar": true,
   "skip_h1_title": false,
   "title_cell": "Table of Contents",
   "title_sidebar": "Contents",
   "toc_cell": false,
   "toc_position": {},
   "toc_section_display": true,
   "toc_window_display": false
  },
  "varInspector": {
   "cols": {
    "lenName": 16,
    "lenType": 16,
    "lenVar": 40
   },
   "kernels_config": {
    "python": {
     "delete_cmd_postfix": "",
     "delete_cmd_prefix": "del ",
     "library": "var_list.py",
     "varRefreshCmd": "print(var_dic_list())"
    },
    "r": {
     "delete_cmd_postfix": ") ",
     "delete_cmd_prefix": "rm(",
     "library": "var_list.r",
     "varRefreshCmd": "cat(var_dic_list()) "
    }
   },
   "types_to_exclude": [
    "module",
    "function",
    "builtin_function_or_method",
    "instance",
    "_Feature"
   ],
   "window_display": false
  }
 },
 "nbformat": 4,
 "nbformat_minor": 2
}
