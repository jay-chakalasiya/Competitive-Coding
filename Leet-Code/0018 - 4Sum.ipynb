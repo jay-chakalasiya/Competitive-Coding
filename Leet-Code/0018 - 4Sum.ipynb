{
 "cells": [
  {
   "cell_type": "markdown",
   "metadata": {},
   "source": [
    "Given an array `nums` of n integers and an integer target, are there elements a, b, c, and d in `nums` such that a + b + c + d = `target`? Find all unique quadruplets in the array which gives the sum of `target`.\n",
    "\n",
    "**Note:**\n",
    "The solution set must not contain duplicate quadruplets.\n",
    "\n",
    "**Example:**\n",
    "```\n",
    "Given array nums = [1, 0, -1, 0, -2, 2], and target = 0.\n",
    "\n",
    "A solution set is:\n",
    "[\n",
    "  [-1,  0, 0, 1],\n",
    "  [-2, -1, 1, 2],\n",
    "  [-2,  0, 0, 2]\n",
    "]\n",
    "```"
   ]
  },
  {
   "cell_type": "code",
   "execution_count": 23,
   "metadata": {
    "ExecuteTime": {
     "end_time": "2020-01-04T10:53:06.913048Z",
     "start_time": "2020-01-04T10:53:06.902073Z"
    }
   },
   "outputs": [],
   "source": [
    "def fourSum(nums, target):\n",
    "    def findSum(l, r, target, N, result, results):\n",
    "        print(l,r,nums[l:r],target,N,result, results)\n",
    "        if r-l+1 < N or N < 2 or nums[l]*N > target or nums[r]*N < target:\n",
    "            #Dont consider if the elements required are more than the range passed\n",
    "            #Dont consider if the N<2 thus din't require the list if elements\n",
    "            #Dont consider if the left most evement is already greater then the target\n",
    "            #Dont consider if the right most element is smaller than target\n",
    "            return\n",
    "        \n",
    "        if N==2:\n",
    "            #Two pointers to solve the 2Sum problem\n",
    "            while l<r:\n",
    "                s = nums[l]+nums[r]\n",
    "                if s == target:\n",
    "                    results.append(result + [nums[l], nums[r]])\n",
    "                    l+=1\n",
    "                    while l<r and nums[l]==nums[l-1]:\n",
    "                        l+=1\n",
    "                elif s < target:\n",
    "                    l+=1\n",
    "                else:\n",
    "                    r-=1\n",
    "                    \n",
    "        else:\n",
    "            for i in range(l, r+1):\n",
    "                print(i>l, i, l)\n",
    "                if i==l or (i>l and nums[i-1] != nums[i]):\n",
    "                    findSum(i+1, r, target-nums[i], N-1, result+[nums[i]], results)\n",
    "    \n",
    "    nums.sort()\n",
    "    print(nums)\n",
    "    results=[]\n",
    "    findSum(0, len(nums)-1, target, 5, [], results)\n",
    "    return results\n",
    "    "
   ]
  },
  {
   "cell_type": "markdown",
   "metadata": {},
   "source": [
    "The Idea is use the 3 Sum problem to solve the 4 Sum problem\n",
    "\n",
    "any for that any N Sum problem\n",
    "\n",
    "Just exhaust all the combination to reach till 2 Sum problem and use two pointers to solve the 2 Sum problem\n",
    "and added some extra validations to cut the non-usefull loops"
   ]
  },
  {
   "cell_type": "code",
   "execution_count": null,
   "metadata": {},
   "outputs": [],
   "source": []
  }
 ],
 "metadata": {
  "kernelspec": {
   "display_name": "Python 3",
   "language": "python",
   "name": "python3"
  },
  "language_info": {
   "codemirror_mode": {
    "name": "ipython",
    "version": 3
   },
   "file_extension": ".py",
   "mimetype": "text/x-python",
   "name": "python",
   "nbconvert_exporter": "python",
   "pygments_lexer": "ipython3",
   "version": "3.6.8"
  },
  "toc": {
   "base_numbering": 1,
   "nav_menu": {},
   "number_sections": true,
   "sideBar": true,
   "skip_h1_title": false,
   "title_cell": "Table of Contents",
   "title_sidebar": "Contents",
   "toc_cell": false,
   "toc_position": {},
   "toc_section_display": true,
   "toc_window_display": false
  },
  "varInspector": {
   "cols": {
    "lenName": 16,
    "lenType": 16,
    "lenVar": 40
   },
   "kernels_config": {
    "python": {
     "delete_cmd_postfix": "",
     "delete_cmd_prefix": "del ",
     "library": "var_list.py",
     "varRefreshCmd": "print(var_dic_list())"
    },
    "r": {
     "delete_cmd_postfix": ") ",
     "delete_cmd_prefix": "rm(",
     "library": "var_list.r",
     "varRefreshCmd": "cat(var_dic_list()) "
    }
   },
   "types_to_exclude": [
    "module",
    "function",
    "builtin_function_or_method",
    "instance",
    "_Feature"
   ],
   "window_display": false
  }
 },
 "nbformat": 4,
 "nbformat_minor": 2
}
