{
 "cells": [
  {
   "cell_type": "markdown",
   "metadata": {},
   "source": [
    "There are two sorted arrays **nums1** and **nums2** of size m and n respectively.\n",
    "\n",
    "Find the median of the two sorted arrays. The overall run time complexity should be O(log (m+n)).\n",
    "\n",
    "You may assume **nums1** and **nums2** cannot be both empty.\n",
    "\n",
    "**Example 1:**\n",
    "```\n",
    "nums1 = [1, 3]\n",
    "nums2 = [2]\n",
    "\n",
    "The median is 2.0\n",
    "```\n",
    "\n",
    "**Example 2:**\n",
    "```\n",
    "nums1 = [1, 2]\n",
    "nums2 = [3, 4]\n",
    "\n",
    "The median is (2 + 3)/2 = 2.5\n",
    "```"
   ]
  },
  {
   "cell_type": "code",
   "execution_count": 3,
   "metadata": {
    "ExecuteTime": {
     "end_time": "2020-01-02T09:21:42.555258Z",
     "start_time": "2020-01-02T09:21:42.545282Z"
    }
   },
   "outputs": [],
   "source": [
    "def findMedianSortedArrays(nums1, nums2):\n",
    "    total_len = len(nums1) + len(nums2)\n",
    "    median_idx = total_len // 2 # index of median of combined list\n",
    "    if not nums1:\n",
    "        if len(nums2) % 2 == 0:\n",
    "            return (nums2[median_idx] + nums2[median_idx - 1]) / 2\n",
    "        else:\n",
    "            return nums2[median_idx]\n",
    "    if not nums2:\n",
    "        if len(nums1) % 2 == 0:\n",
    "            return (nums1[median_idx] + nums1[median_idx - 1]) / 2\n",
    "        else:\n",
    "            return nums1[median_idx]\n",
    "\n",
    "    list = []\n",
    "    # sort until median index is reached\n",
    "    while len(list) <= median_idx: \n",
    "        if not nums1:\n",
    "            list.append(nums2.pop(0))\n",
    "            continue\n",
    "        if not nums2:\n",
    "            list.append(nums1.pop(0))\n",
    "            continue\n",
    "        if nums1[0] < nums2[0]:\n",
    "            list.append(nums1.pop(0))\n",
    "        else:\n",
    "            list.append(nums2.pop(0))\n",
    "\n",
    "    # returns median value based on combined list length\n",
    "    if total_len % 2 != 0:\n",
    "        return list[median_idx]\n",
    "    else:\n",
    "        return (list[median_idx] + list[median_idx - 1]) / 2"
   ]
  },
  {
   "cell_type": "code",
   "execution_count": 4,
   "metadata": {
    "ExecuteTime": {
     "end_time": "2020-01-02T09:22:02.850867Z",
     "start_time": "2020-01-02T09:22:02.837901Z"
    }
   },
   "outputs": [
    {
     "data": {
      "text/plain": [
       "2.5"
      ]
     },
     "execution_count": 4,
     "metadata": {},
     "output_type": "execute_result"
    }
   ],
   "source": [
    "findMedianSortedArrays([1,2], [3,4])"
   ]
  },
  {
   "cell_type": "code",
   "execution_count": null,
   "metadata": {},
   "outputs": [],
   "source": []
  }
 ],
 "metadata": {
  "kernelspec": {
   "display_name": "Python 3",
   "language": "python",
   "name": "python3"
  },
  "language_info": {
   "codemirror_mode": {
    "name": "ipython",
    "version": 3
   },
   "file_extension": ".py",
   "mimetype": "text/x-python",
   "name": "python",
   "nbconvert_exporter": "python",
   "pygments_lexer": "ipython3",
   "version": "3.6.8"
  },
  "toc": {
   "base_numbering": 1,
   "nav_menu": {},
   "number_sections": true,
   "sideBar": true,
   "skip_h1_title": false,
   "title_cell": "Table of Contents",
   "title_sidebar": "Contents",
   "toc_cell": false,
   "toc_position": {},
   "toc_section_display": true,
   "toc_window_display": false
  },
  "varInspector": {
   "cols": {
    "lenName": 16,
    "lenType": 16,
    "lenVar": 40
   },
   "kernels_config": {
    "python": {
     "delete_cmd_postfix": "",
     "delete_cmd_prefix": "del ",
     "library": "var_list.py",
     "varRefreshCmd": "print(var_dic_list())"
    },
    "r": {
     "delete_cmd_postfix": ") ",
     "delete_cmd_prefix": "rm(",
     "library": "var_list.r",
     "varRefreshCmd": "cat(var_dic_list()) "
    }
   },
   "types_to_exclude": [
    "module",
    "function",
    "builtin_function_or_method",
    "instance",
    "_Feature"
   ],
   "window_display": false
  }
 },
 "nbformat": 4,
 "nbformat_minor": 2
}
