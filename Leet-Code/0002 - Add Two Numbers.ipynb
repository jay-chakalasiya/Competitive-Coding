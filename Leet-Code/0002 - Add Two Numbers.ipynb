{
 "cells": [
  {
   "cell_type": "markdown",
   "metadata": {},
   "source": [
    "You are given two **non-empty** linked lists representing two non-negative integers. The digits are stored in **reverse order** and each of their nodes contain a single digit. Add the two numbers and return it as a linked list.\n",
    "\n",
    "You may assume the two numbers do not contain any leading zero, except the number 0 itself.\n",
    "\n",
    "**Example**\n",
    "```\n",
    "Input: (2 -> 4 -> 3) + (5 -> 6 -> 4)\n",
    "Output: 7 -> 0 -> 8\n",
    "Explanation: 342 + 465 = 807.\n",
    "```"
   ]
  },
  {
   "cell_type": "code",
   "execution_count": 20,
   "metadata": {
    "ExecuteTime": {
     "end_time": "2020-01-02T09:00:37.681696Z",
     "start_time": "2020-01-02T09:00:37.672721Z"
    }
   },
   "outputs": [],
   "source": [
    "class ListNode:\n",
    "    def __init__(self, x):\n",
    "        self.val = x\n",
    "        self.next = None\n",
    "    def print(self):\n",
    "        temp = self.next\n",
    "        string = str(self.val)\n",
    "        while temp!=None:\n",
    "            string += ' -> '+ str(temp.val)\n",
    "            temp=temp.next\n",
    "        print(string)\n",
    "\n",
    "def addTwoNumbers(l1, l2):\n",
    "    out=ListNode((l1.val+l2.val)%10)\n",
    "    carry = (l1.val+l2.val)//10\n",
    "    current=out\n",
    "    l1 = l1.next\n",
    "    l2 = l2.next\n",
    "\n",
    "    while l1!=None or l2!=None:\n",
    "\n",
    "        if l1==None:\n",
    "            v1 = 0\n",
    "        else:\n",
    "            v1 = l1.val\n",
    "            l1 = l1.next\n",
    "\n",
    "        if l2==None:\n",
    "            v2=0\n",
    "        else:\n",
    "            v2 = l2.val\n",
    "            l2 = l2.next\n",
    "\n",
    "        current.next = ListNode((v1+v2+carry)%10)\n",
    "        carry = (v1+v2+carry)//10\n",
    "        current = current.next\n",
    "    if carry!=0:\n",
    "        current.next = ListNode(carry)\n",
    "    return out"
   ]
  },
  {
   "cell_type": "code",
   "execution_count": 21,
   "metadata": {
    "ExecuteTime": {
     "end_time": "2020-01-02T09:00:38.363221Z",
     "start_time": "2020-01-02T09:00:38.358234Z"
    }
   },
   "outputs": [],
   "source": [
    "One = ListNode(2)\n",
    "One.next = ListNode(4)\n",
    "One.next.next = ListNode(3)\n",
    "\n",
    "Two = ListNode(5)\n",
    "Two.next = ListNode(6)\n",
    "Two.next.next = ListNode(4)"
   ]
  },
  {
   "cell_type": "code",
   "execution_count": 22,
   "metadata": {
    "ExecuteTime": {
     "end_time": "2020-01-02T09:00:43.600129Z",
     "start_time": "2020-01-02T09:00:43.595144Z"
    }
   },
   "outputs": [
    {
     "name": "stdout",
     "output_type": "stream",
     "text": [
      "2 -> 4 -> 3\n",
      "5 -> 6 -> 4\n"
     ]
    }
   ],
   "source": [
    "One.print()\n",
    "Two.print()"
   ]
  },
  {
   "cell_type": "code",
   "execution_count": 24,
   "metadata": {
    "ExecuteTime": {
     "end_time": "2020-01-02T09:01:05.574351Z",
     "start_time": "2020-01-02T09:01:05.568368Z"
    }
   },
   "outputs": [
    {
     "name": "stdout",
     "output_type": "stream",
     "text": [
      "7 -> 0 -> 8\n"
     ]
    }
   ],
   "source": [
    "out = addTwoNumbers(One, Two)\n",
    "out.print()"
   ]
  },
  {
   "cell_type": "code",
   "execution_count": null,
   "metadata": {},
   "outputs": [],
   "source": []
  }
 ],
 "metadata": {
  "kernelspec": {
   "display_name": "Python 3",
   "language": "python",
   "name": "python3"
  },
  "language_info": {
   "codemirror_mode": {
    "name": "ipython",
    "version": 3
   },
   "file_extension": ".py",
   "mimetype": "text/x-python",
   "name": "python",
   "nbconvert_exporter": "python",
   "pygments_lexer": "ipython3",
   "version": "3.6.8"
  },
  "toc": {
   "base_numbering": 1,
   "nav_menu": {},
   "number_sections": true,
   "sideBar": true,
   "skip_h1_title": false,
   "title_cell": "Table of Contents",
   "title_sidebar": "Contents",
   "toc_cell": false,
   "toc_position": {},
   "toc_section_display": true,
   "toc_window_display": false
  },
  "varInspector": {
   "cols": {
    "lenName": 16,
    "lenType": 16,
    "lenVar": 40
   },
   "kernels_config": {
    "python": {
     "delete_cmd_postfix": "",
     "delete_cmd_prefix": "del ",
     "library": "var_list.py",
     "varRefreshCmd": "print(var_dic_list())"
    },
    "r": {
     "delete_cmd_postfix": ") ",
     "delete_cmd_prefix": "rm(",
     "library": "var_list.r",
     "varRefreshCmd": "cat(var_dic_list()) "
    }
   },
   "types_to_exclude": [
    "module",
    "function",
    "builtin_function_or_method",
    "instance",
    "_Feature"
   ],
   "window_display": false
  }
 },
 "nbformat": 4,
 "nbformat_minor": 2
}
